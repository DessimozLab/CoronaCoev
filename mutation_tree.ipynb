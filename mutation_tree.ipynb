{
 "cells": [
  {
   "cell_type": "code",
   "execution_count": 1,
   "id": "de7c3781-4be6-49ba-ace7-cdbbac44e2b1",
   "metadata": {},
   "outputs": [],
   "source": [
    "import sparse\n",
    "import subprocess\n",
    "import shlex\n",
    "import pandas as pd\n",
    "import numpy as np\n",
    "\n",
    "import glob\n",
    "import os\n",
    "import wget\n",
    "import requests\n",
    "import glob\n",
    "import time\n",
    "import dask\n",
    "import h5py\n",
    "\n",
    "from Bio import SeqIO\n",
    "import pickle\n",
    "import sys\n",
    "sys.setrecursionlimit( 10 **9 )\n",
    "from sklearn.cluster import *\n",
    "from sklearn.metrics import roc_curve , precision_recall_curve , auc\n",
    "\n",
    "import scipy\n",
    "import copy\n",
    "from numpy import linalg as LA\n",
    "from matplotlib import pyplot as plt\n",
    "import random\n",
    "import h5py\n",
    "import itertools\n",
    "import dendropy\n",
    "import os\n",
    "import psutil\n",
    "import seaborn as sns\n",
    "\n",
    "\n",
    "overwrite = False\n",
    "jk_iterations = 5\n",
    "os.environ['MKL_ENABLE_INSTRUCTIONS'] = 'AVX2'"
   ]
  },
  {
   "cell_type": "code",
   "execution_count": 2,
   "id": "84f2a7b0-0398-4c19-8e0c-db7ca5c5a37e",
   "metadata": {},
   "outputs": [
    {
     "name": "stdout",
     "output_type": "stream",
     "text": [
      "['/work/FAC/FBM/DBC/cdessim2/default/dmoi/datasets/covid_data/apr_4_2022/mmsa_2022-04-04/2022-04-04_masked.fa_02022-06-14T07:53:44.200443small_test_coevmats.pkl']\n"
     ]
    }
   ],
   "source": [
    "filedir = '/work/FAC/FBM/DBC/cdessim2/default/dmoi/'\n",
    "\n",
    "files = glob.glob( '/work/FAC/FBM/DBC/cdessim2/default/dmoi/datasets/covid_data/apr_4_2022/mmsa_2022-04-04/2022-04-04_masked.fa_02022-06-14T07:53:44.200443small_test_coevmats.pkl')\n",
    "print(files)"
   ]
  },
  {
   "cell_type": "code",
   "execution_count": 3,
   "id": "052a85e2-5ff1-4430-9e58-6b347cdf6bf6",
   "metadata": {},
   "outputs": [],
   "source": [
    "#treefile = '../validation_data/covid19/gisaid_hcov-2020_08_25.QC.NSoutlier.filter.deMaiomask.aln.EPIID.treefile'\n",
    "#alnfile = '../validation_data/covid19/gisaid_hcov-2020_08_25.QC.NSoutlier.filter.deMaiomask.EPIID.aln'\n",
    "alnfile = filedir + 'datasets/covid_data/msa_0730/msa_0730.fasta'\n",
    "\n",
    "treefile = '/work/FAC/FBM/DBC/cdessim2/default/dmoi/datasets/covid_data/feb_2021/GISAID-hCoV-19-phylogeny-2021-02-21/global.tree'\n",
    "modeldir = filedir+'datasets/covid_data/structs/'\n",
    "\n",
    "alnh5 = alnfile+'.h5'\n",
    "#ts = '2021-08-08T11:16:34.358764'\n",
    "#ts = '2021-08-08T14:37:59.736512'\n",
    "#events = alnfile+'*'+ts+'*'\n",
    "eventmats = files"
   ]
  },
  {
   "cell_type": "code",
   "execution_count": null,
   "id": "f9fc0620-3e97-458f-b8c9-c4ff6339029a",
   "metadata": {},
   "outputs": [],
   "source": [
    "tree = dendropy.Tree.get( path=treefile, schema='newick' )"
   ]
  },
  {
   "cell_type": "code",
   "execution_count": null,
   "id": "a842242b-7206-4b53-928c-c6b893aad766",
   "metadata": {},
   "outputs": [],
   "source": [
    "tns = dendropy.TaxonNamespace(label=\"taxa\")\n",
    "for i,n in enumerate(tree.nodes()):\n",
    "    n.matrow = i\n",
    "    n.taxon = i\n",
    "    n.symbols = None\n",
    "    n.scores = None\n",
    "    n.event = None\n",
    "    n.char = None\n",
    "    tns.add_taxon(i)\n",
    "tree.taxon_namespace = tns\n",
    "matsize = len(tree.nodes())\n",
    "print(matsize)\n",
    "print('nodes')\n",
    "connectmat = scipy.sparse.csc_matrix((len(tree.nodes()), len(tree.nodes() ) ) )\n",
    "index = np.array([ [n.matrow, c.matrow ] for n in tree.nodes() for c in n.child_nodes()])\n",
    "lengths = np.array([ c.edge_length for n in tree.nodes() for c in n.child_nodes()])\n",
    "total_len = np.sum(lengths)\n",
    "#fill diagonal\n",
    "#index = np.vstack( [index , np.array([ [n.matrow, n.matrow ] for n in tree.nodes() ]) ] )\n",
    "\n",
    "connectmat[index[:,0],index[:,1]] = 1\n",
    "connectmat[index[:,1],index[:,0]] = 1\n",
    "\n",
    "\n",
    "#connectmat = connectmat.todense()\n",
    "diag = [ i for i in range(connectmat.shape[0])]\n",
    "connectmat[diag,diag] = 1\n",
    "#connectmat = connectmat.todense()\n",
    "#connectmat = scipy.sparse.csc_matrix(connectmat)\n",
    "#np.fill_diagonal(connectmat , 1)\n",
    "connectmat = scipy.sparse.coo_matrix(connectmat)\n",
    "plt.figure( figsize=(10,10))\n",
    "plt.title( 'phylo tree connectivity matrix ' )\n",
    "plt.spy(connectmat, markersize= 1)\n",
    "plt.show()"
   ]
  },
  {
   "cell_type": "code",
   "execution_count": null,
   "id": "36ca48e6-126f-4342-86f4-44a7b5e51a82",
   "metadata": {},
   "outputs": [],
   "source": [
    "nucleotide_mutation = None\n",
    "AA_mutation = None\n",
    "for mat in eventmats:\n",
    "    with open( mat , 'rb') as pklin:\n",
    "        mats = pickle.loads(pklin.read())\n",
    "        print(mats)\n",
    "        if AA_mutation is None:\n",
    "            nucleotide_mutation = mats[1]\n",
    "            AA_mutation = mats[0]\n",
    "        else:\n",
    "            nucleotide_mutation += mats[1]\n",
    "            AA_mutation += mats[0]\n",
    "print(nucleotide_mutation)\n",
    "print(AA_mutation)"
   ]
  },
  {
   "cell_type": "code",
   "execution_count": null,
   "id": "7eb32dda-fe0b-4f41-a4ba-4a655b25261a",
   "metadata": {},
   "outputs": [],
   "source": [
    "AAmat = AA_mutation.sum(axis = 2).to_scipy_sparse()\n",
    "plt.figure(figsize=(10,100))\n",
    "plt.spy(AAmat, markersize= .5)\n",
    "plt.title('total amino acid mutations')\n",
    "plt.show()"
   ]
  },
  {
   "cell_type": "code",
   "execution_count": null,
   "id": "6ab809ae-f20c-4749-b6e9-9b43c9f08222",
   "metadata": {},
   "outputs": [],
   "source": [
    "c1 = 10000\n",
    "c2 = 10024\n",
    "col1 = AA_mutation[:,c1,:] \n",
    "col2 = AA_mutation[:,c2,:] \n",
    "\n",
    "print(col1,col2, col1.coords, col2.coords)\n",
    "\n",
    "both = col1+col2\n",
    "both = both.sum(axis=1)\n",
    "nodefilter = list(set(both.coords[0]))"
   ]
  },
  {
   "cell_type": "code",
   "execution_count": null,
   "id": "7d891be0-37d7-4ba7-b162-6974eb0baa2a",
   "metadata": {},
   "outputs": [],
   "source": [
    "filter_fn  = lambda x : x.matrow in nodefilter\n",
    "nodes = tree.find_nodes(filter_fn=filter_fn)\n",
    "print(nodes)"
   ]
  },
  {
   "cell_type": "code",
   "execution_count": null,
   "id": "f317544b-3783-4430-9104-885e180cd9e3",
   "metadata": {},
   "outputs": [],
   "source": [
    "n1 = nodes[0].taxon\n",
    "n2 = nodes[1].taxon"
   ]
  },
  {
   "cell_type": "code",
   "execution_count": null,
   "id": "5cc24378-9c74-4e7b-8a2b-cf347190ac0e",
   "metadata": {},
   "outputs": [],
   "source": [
    "import networkx as nx\n",
    "#load graph\n",
    "G = nx.from_edgelist(list(zip(list(connectmat.col), list(connectmat.row))))"
   ]
  },
  {
   "cell_type": "code",
   "execution_count": null,
   "id": "bafed3d9-89d1-462e-9e48-f33d1a1f3353",
   "metadata": {},
   "outputs": [],
   "source": [
    "paths = [ nx.shortest_path(G, source=n1, target=n2, weight=None, method='dijkstra') for i,n1 in enumerate(nodefilter)\n",
    " for j,n2 in enumerate( nodefilter ) if i< j]\n",
    "allnodes = set([])\n",
    "\n",
    "for p in paths:\n",
    "    allnodes = allnodes.union(p)\n",
    "\n",
    "#find the clipped subtrees\n",
    "#add a type of node to summarize clipped subtree\n",
    "allnodes = list(allnodes)\n",
    "connectmat = sparse.COO(connectmat)\n",
    "submat = connectmat[allnodes,:]\n",
    "submat = submat[:, allnodes]\n",
    "submat = submat.to_scipy_sparse()\n",
    "\n",
    "\n",
    "\n",
    "\n",
    "subG = nx.from_edgelist(list(zip(list(submat.col), list(submat.row))))\n",
    "\n",
    "\n",
    "\n",
    "through_pairs = [ n for n in subG.nodes() if nx.degree(subG,n) == 2 ]\n",
    "\n",
    "print(through_pairs)\n",
    "\n",
    "for n in through:\n",
    "    \n",
    "    G = nx.contracted_nodes(G, n, 3)\n",
    "\n",
    "plt.figure( figsize=(10,10))\n",
    "plt.title( 'phylo tree connectivity matrix ' )\n",
    "plt.spy(submat , markersize= 1)\n",
    "plt.show()\n",
    "\n",
    "#select subgraph\n",
    "\n",
    "\n",
    "#collapse nodes we degree 2\n",
    "\n",
    "\n",
    "\n",
    "\n",
    "print(p)"
   ]
  }
 ],
 "metadata": {
  "kernelspec": {
   "display_name": "Python 3 (ipykernel)",
   "language": "python",
   "name": "python3"
  },
  "language_info": {
   "codemirror_mode": {
    "name": "ipython",
    "version": 3
   },
   "file_extension": ".py",
   "mimetype": "text/x-python",
   "name": "python",
   "nbconvert_exporter": "python",
   "pygments_lexer": "ipython3",
   "version": "3.8.13"
  }
 },
 "nbformat": 4,
 "nbformat_minor": 5
}
