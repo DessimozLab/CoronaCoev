{
 "cells": [
  {
   "cell_type": "code",
   "execution_count": 3,
   "metadata": {},
   "outputs": [],
   "source": [
    "from Bio import SeqIO"
   ]
  },
  {
   "cell_type": "code",
   "execution_count": 4,
   "metadata": {},
   "outputs": [],
   "source": [
    "import pandas as pd\n",
    "from itertools import combinations\n",
    "import numpy as np\n",
    "from colour import Color\n",
    "count = 0\n",
    "\n",
    "annotationfile = './coronaGenoWuhan.gb'\n",
    "parser = SeqIO.parse( annotationfile , 'gb')\n",
    "### stack graph\n",
    "for entry in parser:\n",
    "    for feature in entry.features:\n",
    "        if 'product' in feature.qualifiers:\n",
    "            count +=1"
   ]
  },
  {
   "cell_type": "code",
   "execution_count": 5,
   "metadata": {},
   "outputs": [],
   "source": [
    "models = ' 6zxn,5x58,6cs0,6sc1,6nb6, 2jw8, 2xab, 4aud1, 1yo4, 2acf, 2wct, 3vc8, 2gt7, 3ee7, 2g9t, 3ee7, 2g9t, 6jyt, 1ysy, 6nur, 2g9t, 5c8u, 2g9t, 2xyq, 4mm3, 6cs2, 6acg, 6acj, 6ack, 2dd8, 2ghw, 6nb6, 6nb7'\n",
    "models = models.split(',')\n",
    "templatedir = './templates/'"
   ]
  },
  {
   "cell_type": "code",
   "execution_count": 6,
   "metadata": {},
   "outputs": [],
   "source": [
    "import os\n",
    "import wget\n",
    "import requests\n",
    "import glob\n",
    "import time\n",
    "clear = False"
   ]
  },
  {
   "cell_type": "code",
   "execution_count": 7,
   "metadata": {},
   "outputs": [],
   "source": [
    "if not os.path.isdir(templatedir):\n",
    "    os.mkdir(templatedir)\n",
    "if clear == True:\n",
    "    files = glob.glob(templatedir+'*.pdb')\n",
    "    for f in files:\n",
    "        os.remove(f)"
   ]
  },
  {
   "cell_type": "code",
   "execution_count": 8,
   "metadata": {},
   "outputs": [
    {
     "name": "stdout",
     "output_type": "stream",
     "text": [
      "['./templates/6ACG.pdb', './templates/6NUR.pdb', './templates/5C8U.pdb', './templates/PL-PRO_C_terminal.pdb', './templates/nsp2.pdb', './templates/2DD8.pdb', './templates/2WCT.pdb', './templates/6ACJ.pdb', './templates/2G9T (1).pdb', './templates/6NB6.pdb', './templates/5X58.pdb', './templates/nsp4.pdb', './templates/6NB7.pdb', './templates/6JYT.pdb', './templates/2GT7.pdb', './templates/3VC8.pdb', './templates/3EE7.pdb', './templates/nsp6.pdb', './templates/6ZXN.pdb', './templates/4MM3.pdb', './templates/6SC1.pdb', './templates/2ACF.pdb', './templates/2G9T.pdb', './templates/M_protein.pdb', './templates/2XYQ.pdb', './templates/6NB6 (1).pdb', './templates/6CS2.pdb', './templates/6CS0.pdb', './templates/1YSY.pdb', './templates/1YO4.pdb', './templates/2XAB.pdb', './templates/6ACK.pdb', './templates/2GHW.pdb', './templates/2JW8.pdb', './templates/3EE7 (1).pdb']\n",
      " 4aud1\n",
      "err  4aud1\n"
     ]
    }
   ],
   "source": [
    "from Bio.PDB import *\n",
    "dl_url = 'http://files.rcsb.org/download/'\n",
    "dl_url_err = 'http://files.rcsb.org/download/'\n",
    "\n",
    "structs = {}\n",
    "already = glob.glob( './templates/*.pdb' )\n",
    "print(already)\n",
    "#pull complexes\n",
    "for m in models:\n",
    "    structfile = './templates/'+m.upper().strip()+'.pdb'\n",
    "    if structfile not in already:\n",
    "        print(m)\n",
    "        time.sleep(1)\n",
    "        try:\n",
    "            wget.download(url = dl_url + m.strip() +'.pdb' , out =structfile)\n",
    "            structs[m] = structfile\n",
    "        except:\n",
    "            try:\n",
    "                wget.download(url = dl_url + m.strip() +'.pdb' , out =structfile)\n",
    "                structs[m] = structfile\n",
    "            except:\n",
    "                print('err', m )\n",
    "    else:\n",
    "        structs[m.strip()] = structfile\n"
   ]
  },
  {
   "cell_type": "code",
   "execution_count": 9,
   "metadata": {},
   "outputs": [
    {
     "name": "stdout",
     "output_type": "stream",
     "text": [
      "{'6zxn': './templates/6ZXN.pdb', '5x58': './templates/5X58.pdb', '6cs0': './templates/6CS0.pdb', '6sc1': './templates/6SC1.pdb', '6nb6': './templates/6NB6.pdb', '2jw8': './templates/2JW8.pdb', '2xab': './templates/2XAB.pdb', '1yo4': './templates/1YO4.pdb', '2acf': './templates/2ACF.pdb', '2wct': './templates/2WCT.pdb', '3vc8': './templates/3VC8.pdb', '2gt7': './templates/2GT7.pdb', '3ee7': './templates/3EE7.pdb', '2g9t': './templates/2G9T.pdb', '6jyt': './templates/6JYT.pdb', '1ysy': './templates/1YSY.pdb', '6nur': './templates/6NUR.pdb', '5c8u': './templates/5C8U.pdb', '2xyq': './templates/2XYQ.pdb', '4mm3': './templates/4MM3.pdb', '6cs2': './templates/6CS2.pdb', '6acg': './templates/6ACG.pdb', '6acj': './templates/6ACJ.pdb', '6ack': './templates/6ACK.pdb', '2dd8': './templates/2DD8.pdb', '2ghw': './templates/2GHW.pdb', '6nb7': './templates/6NB7.pdb'}\n"
     ]
    }
   ],
   "source": [
    "print(structs)"
   ]
  },
  {
   "cell_type": "code",
   "execution_count": 10,
   "metadata": {},
   "outputs": [
    {
     "name": "stdout",
     "output_type": "stream",
     "text": [
      "{'ALA': 'A', 'ASX': 'B', 'CYS': 'C', 'ASP': 'D', 'GLU': 'E', 'PHE': 'F', 'GLY': 'G', 'HIS': 'H', 'ILE': 'I', 'LYS': 'K', 'LEU': 'L', 'MET': 'M', 'ASN': 'N', 'PRO': 'P', 'GLN': 'Q', 'ARG': 'R', 'SER': 'S', 'THR': 'T', 'SEC': 'U', 'VAL': 'V', 'TRP': 'W', 'XAA': 'X', 'TYR': 'Y', 'GLX': 'Z'}\n"
     ]
    }
   ],
   "source": [
    "#open all the complexes and pull sequences\n",
    "#convert to json\n",
    "from Bio import Alphabet\n",
    "parser = PDBParser()\n",
    "from Bio.SeqUtils import seq1\n",
    "letter3 = Alphabet.ThreeLetterProtein.letters\n",
    "converter = { l.upper(): seq1(l) for l in letter3 }\n",
    "print(converter)"
   ]
  },
  {
   "cell_type": "code",
   "execution_count": 14,
   "metadata": {},
   "outputs": [],
   "source": [
    "alnfile = '../lucy_mk3/gisaid_hcov-2020_08_25.QC.NSoutlier.filter.deMaiomask.EPIID.aln'\n",
    "#clusterfile = alnfile + 'jackknife_clusterpositions_columns.csv'\n",
    "clusterfile = alnfile + 'RBMising_clusterpositions_columns.csv'\n",
    "clusterdf = pd.read_csv( clusterfile)"
   ]
  },
  {
   "cell_type": "code",
   "execution_count": 15,
   "metadata": {},
   "outputs": [
    {
     "name": "stdout",
     "output_type": "stream",
     "text": [
      "./structs.fast\n",
      " \"10 qseqid sseqid qlen slen qstart qend qframe evalue  \" \n",
      "structDB\n",
      "          qseqid  sseqid   qlen  slen  qstart   qend  qframe        evalue  \\\n",
      "0    NC_045512.2  6zxn|A  29903  1060   21602  25000       2  0.000000e+00   \n",
      "1    NC_045512.2  6zxn|C  29903  1054   21602  25000       2  0.000000e+00   \n",
      "2    NC_045512.2  6zxn|B  29903  1054   21602  25000       2  0.000000e+00   \n",
      "3    NC_045512.2  6nb6|A  29903  1052   21662  24997       2  0.000000e+00   \n",
      "4    NC_045512.2  6nb6|C  29903  1055   21662  24997       2  0.000000e+00   \n",
      "..           ...     ...    ...   ...     ...    ...     ...           ...   \n",
      "123  NC_045512.2  1yo4|A  29903    87   27439  27687       1  4.510000e-46   \n",
      "133  NC_045512.2  1ysy|A  29903    85   11840  12091       2  7.690000e-32   \n",
      "153  NC_045512.2  3vc8|B  29903    85    9785  10042       2  2.120000e-28   \n",
      "154  NC_045512.2  3vc8|A  29903    81    9785  10024       2  8.590000e-27   \n",
      "155  NC_045512.2  6nur|C  29903    70   11846  12055       2  1.320000e-22   \n",
      "\n",
      "    struct chain  \n",
      "0     6zxn     A  \n",
      "1     6zxn     C  \n",
      "2     6zxn     B  \n",
      "3     6nb6     A  \n",
      "4     6nb6     C  \n",
      "..     ...   ...  \n",
      "123   1yo4     A  \n",
      "133   1ysy     A  \n",
      "153   3vc8     B  \n",
      "154   3vc8     A  \n",
      "155   6nur     C  \n",
      "\n",
      "[87 rows x 10 columns]\n",
      "87  orfs detected\n"
     ]
    }
   ],
   "source": [
    "import subprocess\n",
    "import shlex\n",
    "import pandas as pd \n",
    "import warnings\n",
    "\n",
    "\n",
    "#collapse codons\n",
    "#use tblastn to map to prot\n",
    "\n",
    "from Bio.PDB.PDBParser import PDBParser\n",
    "from Bio.PDB.Polypeptide import PPBuilder\n",
    "ppb=PPBuilder()\n",
    "\n",
    "structseqs={}\n",
    "\n",
    "\n",
    "with warnings.catch_warnings():\n",
    "    warnings.simplefilter(\"ignore\")\n",
    "    with open( 'structs.fast' , 'w')as fastout:\n",
    "        for s in structs:\n",
    "            Structure = PDBParser().get_structure(s, structs[s])\n",
    "            for model in Structure:\n",
    "                for chain in model:\n",
    "                    res = chain.get_residues()\n",
    "                    seq =  ''.join([ converter[r.get_resname()] for r in res if r.get_resname() in converter ] )\n",
    "                    fastout.write('>' + s + '|'+ chain.id +'\\n')\n",
    "                    fastout.write(str( seq ) +'\\n'  )\n",
    "                    structseqs[ s + '|'+ chain.id ] = seq\n",
    "                    #for i, pp in enumerate(ppb.build_peptides(chain)):\n",
    "\n",
    "                        #seq = str(pp.get_sequence()).lower()\n",
    "\n",
    "                        #structseqs[ s + '|'+ chain.id ] = seq\n",
    "                        #fastout.write('>' + s + '|'+ chain.id +'|'+str(i)+'\\n')\n",
    "                        #fastout.write(str( seq ) +'\\n'  )\n",
    "\n",
    "\n",
    "def makeblastDB(fasta , blastdb):\n",
    "    print(fasta)\n",
    "    #make a blast database with the structures\n",
    "    args = 'makeblastdb -in '+ fasta +' -out '+ blastdb + ' -dbtype prot'\n",
    "    p = subprocess.run( shlex.split(args) )\n",
    "    return p ,  blastdb\n",
    "\n",
    "\n",
    "def runblastx( qfile ,db ,  outannot = 'outannot.txt' , outfmt = None ):\n",
    "    if outfmt is None:\n",
    "        outfmt = [ 'qseqid' , 'sseqid' , 'qlen' ,  'slen' , 'qstart' , 'qend' ,  'qframe' , 'evalue' ]\n",
    "        outfmt =  ' \"10 ' + ''.join([fmt+ ' ' for fmt in outfmt]) + ' \" '\n",
    "        print(outfmt)\n",
    "        print(db)\n",
    "    args = 'blastx -query '+ qfile + ' -db '+ db +' -outfmt' + outfmt + ' -out ' + outannot  \n",
    "    p = subprocess.run( shlex.split(args) )\n",
    "    return p , outannot\n",
    "\n",
    "\n",
    "out = 'outannot.txt'\n",
    "p,blastdb = makeblastDB( './structs.fast' , 'structDB' )\n",
    "p,annot = runblastx( 'covid19geno.fasta' , blastdb )\n",
    "\n",
    "annotation = pd.read_csv( annot , header = None )\n",
    "annotation.columns = [ 'qseqid' , 'sseqid' , 'qlen' ,  'slen' , 'qstart' , 'qend' ,  'qframe' , 'evalue' ] \n",
    "annotation = annotation[ annotation['evalue'] < 10**-3 ]\n",
    "annotation = annotation[annotation.evalue < 10 ** -20 ]\n",
    "annotation = annotation.drop_duplicates(['sseqid'])\n",
    "annotation['struct'] = annotation.sseqid.map(lambda x : x.split('|')[0])\n",
    "annotation['chain'] = annotation.sseqid.map(lambda x : x.split('|')[1])\n",
    "print(annotation)\n",
    "\n",
    "print(len(annotation), ' orfs detected')\n",
    "#recluster codons\n",
    "#load blast results into df\n",
    "\n",
    "\n"
   ]
  },
  {
   "cell_type": "code",
   "execution_count": 16,
   "metadata": {},
   "outputs": [
    {
     "name": "stdout",
     "output_type": "stream",
     "text": [
      "{'6zxn': './templates/6ZXN.pdb', '5x58': './templates/5X58.pdb', '6cs0': './templates/6CS0.pdb', '6sc1': './templates/6SC1.pdb', '6nb6': './templates/6NB6.pdb', '2jw8': './templates/2JW8.pdb', '2xab': './templates/2XAB.pdb', '1yo4': './templates/1YO4.pdb', '2acf': './templates/2ACF.pdb', '2wct': './templates/2WCT.pdb', '3vc8': './templates/3VC8.pdb', '2gt7': './templates/2GT7.pdb', '3ee7': './templates/3EE7.pdb', '2g9t': './templates/2G9T.pdb', '6jyt': './templates/6JYT.pdb', '1ysy': './templates/1YSY.pdb', '6nur': './templates/6NUR.pdb', '5c8u': './templates/5C8U.pdb', '2xyq': './templates/2XYQ.pdb', '4mm3': './templates/4MM3.pdb', '6cs2': './templates/6CS2.pdb', '6acg': './templates/6ACG.pdb', '6acj': './templates/6ACJ.pdb', '6ack': './templates/6ACK.pdb', '2dd8': './templates/2DD8.pdb', '2ghw': './templates/2GHW.pdb', '6nb7': './templates/6NB7.pdb'}\n",
      "    Unnamed: 0     0     1      2      3      4        5        6        7  \\\n",
      "0            0  1189  2398   5182   6400   9244  17676.0  28076.0  28852.0   \n",
      "1            1  1162  2938   3094  10321  13333  14406.0  21706.0  25689.0   \n",
      "2            2  1168  4147   4681   6025   6403   9163.0   9922.0  10321.0   \n",
      "3            3  1189  4156   5182   5728   6760   7726.0   9472.0  10375.0   \n",
      "4            4  1162  1189   1300   4876   6025  10321.0  17409.0  17745.0   \n",
      "..         ...   ...   ...    ...    ...    ...      ...      ...      ...   \n",
      "95          95  1057  6403   7726   9472  10375  10603.0  17745.0  22018.0   \n",
      "96          96  1456  1756   1819   4681   6400   7726.0  16614.0  16851.0   \n",
      "97          97  3094  4147   6400   7795   9163  16851.0  24367.0  24862.0   \n",
      "98          98  1189  1300  10321  10375  11416  21303.0  28076.0  28825.0   \n",
      "99          99  1057  1168   1189   3736   6025  25656.0  25713.0  28885.0   \n",
      "\n",
      "          8        9       10       11       12       13       14       15  16  \n",
      "0   28882.0  28885.0  29419.0      NaN      NaN      NaN      NaN      NaN NaN  \n",
      "1   25914.0  28852.0  29419.0      NaN      NaN      NaN      NaN      NaN NaN  \n",
      "2   10624.0  16761.0  18567.0  23401.0  25560.0  27702.0  27962.0  28879.0 NaN  \n",
      "3   25560.0  25782.0  26454.0  27146.0  28085.0      NaN      NaN      NaN NaN  \n",
      "4   21706.0  24367.0  25719.0  26454.0  28085.0      NaN      NaN      NaN NaN  \n",
      "..      ...      ...      ...      ...      ...      ...      ...      ...  ..  \n",
      "95  23590.0  27146.0  28085.0  28825.0      NaN      NaN      NaN      NaN NaN  \n",
      "96  21135.0  25560.0  25854.0  26528.0  28852.0  28879.0  28885.0  29401.0 NaN  \n",
      "97  25470.0  26142.0  28076.0  29368.0      NaN      NaN      NaN      NaN NaN  \n",
      "98  28852.0  28879.0      NaN      NaN      NaN      NaN      NaN      NaN NaN  \n",
      "99  29419.0      NaN      NaN      NaN      NaN      NaN      NaN      NaN NaN  \n",
      "\n",
      "[100 rows x 18 columns]\n"
     ]
    }
   ],
   "source": [
    "print(structs)\n",
    "print(clusterdf)"
   ]
  },
  {
   "cell_type": "code",
   "execution_count": 17,
   "metadata": {},
   "outputs": [
    {
     "name": "stdout",
     "output_type": "stream",
     "text": [
      "{'6zxn': './templates/6ZXN.pdb', '5x58': './templates/5X58.pdb', '6cs0': './templates/6CS0.pdb', '6sc1': './templates/6SC1.pdb', '6nb6': './templates/6NB6.pdb', '2jw8': './templates/2JW8.pdb', '2xab': './templates/2XAB.pdb', '1yo4': './templates/1YO4.pdb', '2acf': './templates/2ACF.pdb', '2wct': './templates/2WCT.pdb', '3vc8': './templates/3VC8.pdb', '2gt7': './templates/2GT7.pdb', '3ee7': './templates/3EE7.pdb', '2g9t': './templates/2G9T.pdb', '6jyt': './templates/6JYT.pdb', '1ysy': './templates/1YSY.pdb', '6nur': './templates/6NUR.pdb', '5c8u': './templates/5C8U.pdb', '2xyq': './templates/2XYQ.pdb', '4mm3': './templates/4MM3.pdb', '6cs2': './templates/6CS2.pdb', '6acg': './templates/6ACG.pdb', '6acj': './templates/6ACJ.pdb', '6ack': './templates/6ACK.pdb', '2dd8': './templates/2DD8.pdb', '2ghw': './templates/2GHW.pdb', '6nb7': './templates/6NB7.pdb'}\n",
      "dict_keys(['6zxn|A', '6zxn|B', '6zxn|C', '6zxn|D', '6zxn|E', '6zxn|F', '6zxn|G', '6zxn|H', '6zxn|I', '6zxn|J', '6zxn|K', '6zxn|L', '6zxn|M', '6zxn|N', '6zxn|O', '6zxn|P', '6zxn|Q', '6zxn|R', '5x58|A', '5x58|B', '5x58|C', '6cs0|A', '6cs0|B', '6cs0|C', '6sc1|E', '6nb6|A', '6nb6|B', '6nb6|C', '6nb6|H', '6nb6|I', '6nb6|L', '6nb6|M', '2jw8|A', '2jw8|B', '2xab|A', '2xab|B', '1yo4|A', '2acf|A', '2acf|B', '2acf|C', '2acf|D', '2wct|A', '2wct|B', '2wct|C', '2wct|D', '3vc8|A', '3vc8|B', '2gt7|A', '2gt7|B', '3ee7|A', '3ee7|B', '3ee7|C', '3ee7|D', '2g9t|A', '2g9t|B', '2g9t|C', '2g9t|D', '2g9t|E', '2g9t|F', '2g9t|G', '2g9t|H', '2g9t|I', '2g9t|J', '2g9t|K', '2g9t|L', '2g9t|M', '2g9t|N', '2g9t|O', '2g9t|P', '2g9t|Q', '2g9t|R', '2g9t|S', '2g9t|T', '2g9t|U', '2g9t|V', '2g9t|W', '2g9t|X', '6jyt|A', '6jyt|B', '1ysy|A', '6nur|A', '6nur|B', '6nur|C', '6nur|D', '5c8u|A', '5c8u|B', '5c8u|C', '5c8u|D', '2xyq|A', '2xyq|B', '4mm3|A', '4mm3|B', '6cs2|A', '6cs2|B', '6cs2|C', '6cs2|D', '6acg|A', '6acg|B', '6acg|C', '6acg|D', '6acj|A', '6acj|B', '6acj|C', '6acj|D', '6ack|A', '6ack|B', '6ack|C', '6ack|D', '2dd8|H', '2dd8|L', '2dd8|S', '2ghw|A', '2ghw|B', '2ghw|C', '2ghw|D', '6nb7|A', '6nb7|B', '6nb7|C', '6nb7|D', '6nb7|E', '6nb7|G', '6nb7|H', '6nb7|I', '6nb7|L'])\n",
      "0 0.0\n",
      "1 0.01\n",
      "2 0.02\n",
      "3 0.03\n",
      "4 0.04\n",
      "5 0.05\n",
      "6 0.06\n",
      "7 0.07\n",
      "8 0.08\n",
      "9 0.09\n",
      "10 0.1\n",
      "11 0.11\n",
      "12 0.12\n",
      "13 0.13\n",
      "14 0.14\n",
      "15 0.15\n",
      "16 0.16\n",
      "17 0.17\n",
      "18 0.18\n",
      "19 0.19\n",
      "20 0.2\n",
      "21 0.21\n",
      "22 0.22\n",
      "23 0.23\n",
      "24 0.24\n",
      "25 0.25\n",
      "26 0.26\n",
      "27 0.27\n",
      "28 0.28\n",
      "29 0.29\n",
      "30 0.3\n",
      "31 0.31\n",
      "32 0.32\n",
      "33 0.33\n",
      "34 0.34\n",
      "35 0.35\n",
      "36 0.36\n",
      "37 0.37\n",
      "38 0.38\n",
      "39 0.39\n",
      "40 0.4\n",
      "41 0.41\n",
      "42 0.42\n",
      "43 0.43\n",
      "44 0.44\n",
      "45 0.45\n",
      "46 0.46\n",
      "47 0.47\n",
      "48 0.48\n",
      "49 0.49\n",
      "50 0.5\n",
      "51 0.51\n",
      "52 0.52\n",
      "53 0.53\n",
      "54 0.54\n",
      "55 0.55\n",
      "56 0.56\n",
      "57 0.57\n",
      "58 0.58\n",
      "59 0.59\n",
      "60 0.6\n",
      "61 0.61\n",
      "62 0.62\n",
      "63 0.63\n",
      "64 0.64\n",
      "65 0.65\n",
      "66 0.66\n",
      "67 0.67\n",
      "68 0.68\n",
      "69 0.69\n",
      "70 0.7\n",
      "71 0.71\n",
      "72 0.72\n",
      "73 0.73\n",
      "74 0.74\n",
      "75 0.75\n",
      "76 0.76\n",
      "77 0.77\n",
      "78 0.78\n",
      "79 0.79\n",
      "80 0.8\n",
      "81 0.81\n",
      "82 0.82\n",
      "83 0.83\n",
      "84 0.84\n",
      "85 0.85\n",
      "86 0.86\n",
      "87 0.87\n",
      "88 0.88\n",
      "89 0.89\n",
      "90 0.9\n",
      "91 0.91\n",
      "92 0.92\n",
      "93 0.93\n",
      "94 0.94\n",
      "95 0.95\n",
      "96 0.96\n",
      "97 0.97\n",
      "98 0.98\n",
      "99 0.99\n",
      "     struct c1 c2           d  cluster         r1res         r2res\n",
      "1      6jyt  A  B   43.489861        0   ( , 479,  )   ( , 479,  )\n",
      "2      6zxn  A  C   77.235458        1    ( , 34,  )    ( , 34,  )\n",
      "3      6zxn  A  B   78.540665        1    ( , 34,  )    ( , 34,  )\n",
      "4      6zxn  C  B   76.850624        1    ( , 34,  )    ( , 34,  )\n",
      "5      5x58  A  B  113.196297        1    ( , 22,  )    ( , 22,  )\n",
      "...     ... .. ..         ...      ...           ...           ...\n",
      "7045   6nb7  C  B   33.291103       97  ( , 1066,  )  ( , 1066,  )\n",
      "7046   2gt7  B  A   47.477257       98    ( , 88,  )    ( , 88,  )\n",
      "7047   2gt7  B  A   44.453983       98    ( , 88,  )   ( , 106,  )\n",
      "7048   2gt7  B  A   43.992855       98   ( , 106,  )    ( , 88,  )\n",
      "7049   2gt7  B  A   39.137760       98   ( , 106,  )   ( , 106,  )\n",
      "\n",
      "[7049 rows x 7 columns]\n"
     ]
    }
   ],
   "source": [
    "\n",
    "\n",
    "from Bio.PDB import *\n",
    "import itertools\n",
    "\n",
    "\n",
    "print(structs)\n",
    "candidates = {}\n",
    "print(structseqs.keys())\n",
    "from Bio.PDB.PDBParser import PDBParser\n",
    "import warnings\n",
    "\n",
    "parser = PDBParser()\n",
    "\n",
    "candidates = {}\n",
    "seqhighlight = {}\n",
    "hitcount = 0        \n",
    "for i,cluster in enumerate(clusterdf.index):\n",
    "    \n",
    "    print( cluster , i / len(clusterdf) )\n",
    "    positions = [ int(p) for p in clusterdf.loc[cluster] if ~np.isnan(p) ]\n",
    "    if len(positions) < 200:\n",
    "        with warnings.catch_warnings():\n",
    "            \n",
    "            seqhighlight[cluster] = {}\n",
    "            \n",
    "            warnings.simplefilter(\"ignore\")\n",
    "            for struct in structs:\n",
    "                #select struct\n",
    "                 \n",
    "                #struct = structfile.split('/')[-1].replace('.pdb','').lower()\n",
    "                geno_annot = annotation[ struct == annotation.struct ]\n",
    "                residues = {}\n",
    "     \n",
    "                for i,r in geno_annot.iterrows():\n",
    "                    if r.chain not in residues:\n",
    "                        residues[r.chain] = []\n",
    "                        seqhighlight[cluster][struct+'|'+r.chain] = structseqs[struct+'|'+r.chain].lower()\n",
    "                    for p in positions:\n",
    "                        if p < r.qend and p > r.qstart:\n",
    "                            #match codon to amino acid position\n",
    "                            #todo: triple check this!!!!\n",
    "                            position = int( (p - r.qstart) / 3 )\n",
    "                            residues[r.chain].append(  position )\n",
    "                            seqhighlight[cluster][struct+'|'+r.chain] = \"\".join(c.lower() if i==position else c for i, c in enumerate( seqhighlight[cluster][struct+'|'+r.chain] ))\n",
    "                structure = parser.get_structure(struct, structs[struct])\n",
    "                thresh = 1000\n",
    "                for c1,c2 in itertools.combinations(residues,2):\n",
    "                    #between all chains\n",
    "                    for i,r1 in enumerate(structure[0][c1]):\n",
    "                        for j,r2 in enumerate(structure[0][c2]):\n",
    "                            if c1 != c2 or r1.get_id()[1] != r2.get_id()[1]:\n",
    "                                if r1.get_id()[1] in residues[c1] and r2.get_id()[1] in residues[c2]:\n",
    "                                    #all residues that are not identical\n",
    "                                    try:\n",
    "                                        d = r1['CA'] - r2['CA']\n",
    "                                        if d < thresh:\n",
    "                                            hitcount +=1\n",
    "                                            candidates[hitcount]= { 'struct' : struct , 'c1': c1 , 'c2': c2  ,  'd': d  , 'cluster' : cluster , 'r1res':r1.get_id() , 'r2res':r2.get_id() }\n",
    "                                    except KeyError:\n",
    "                                        pass\n",
    "candidates = pd.DataFrame.from_dict( candidates , orient = 'index')\n",
    "print(candidates)\n",
    "\n",
    "##### biopython\n",
    "### find angstrom distances for pairs\n",
    "### report ranked list of sites under cutoff with struct accesssion"
   ]
  },
  {
   "cell_type": "code",
   "execution_count": 18,
   "metadata": {},
   "outputs": [
    {
     "name": "stdout",
     "output_type": "stream",
     "text": [
      "     struct c1 c2          d  cluster         r1res         r2res\n",
      "12     2g9t  B  X  83.394432        1    ( , 95,  )    ( , 94,  )\n",
      "13     2g9t  B  W  87.107811        1    ( , 95,  )    ( , 94,  )\n",
      "14     2g9t  B  T  82.950325        1    ( , 95,  )    ( , 94,  )\n",
      "15     2g9t  B  S  77.598648        1    ( , 95,  )    ( , 94,  )\n",
      "16     2g9t  B  R  59.752380        1    ( , 95,  )    ( , 94,  )\n",
      "...     ... .. ..        ...      ...           ...           ...\n",
      "7040   6nb7  A  B  45.719799       97  ( , 1066,  )   ( , 901,  )\n",
      "7043   6nb7  C  B  45.875824       97   ( , 901,  )  ( , 1066,  )\n",
      "7044   6nb7  C  B  22.909746       97  ( , 1066,  )   ( , 901,  )\n",
      "7047   2gt7  B  A  44.453983       98    ( , 88,  )   ( , 106,  )\n",
      "7048   2gt7  B  A  43.992855       98   ( , 106,  )    ( , 88,  )\n",
      "\n",
      "[2607 rows x 7 columns]\n",
      "     struct c1 c2          d  cluster         r1res         r2res\n",
      "22     2g9t  B  L  25.920237        1    ( , 95,  )    ( , 94,  )\n",
      "28     2g9t  B  E  29.449518        1    ( , 95,  )    ( , 94,  )\n",
      "31     2g9t  B  A  11.084817        1    ( , 95,  )    ( , 94,  )\n",
      "32     2g9t  B  F  25.305237        1    ( , 95,  )    ( , 94,  )\n",
      "454    2g9t  B  L  25.920237        6    ( , 95,  )    ( , 94,  )\n",
      "...     ... .. ..        ...      ...           ...           ...\n",
      "7027   6ack  B  C  21.591515       97   ( , 909,  )  ( , 1074,  )\n",
      "7032   6ack  A  C  21.993761       97  ( , 1074,  )   ( , 909,  )\n",
      "7036   6nb7  A  C  22.966768       97  ( , 1066,  )   ( , 901,  )\n",
      "7039   6nb7  A  B  22.792610       97   ( , 901,  )  ( , 1066,  )\n",
      "7044   6nb7  C  B  22.909746       97  ( , 1066,  )   ( , 901,  )\n",
      "\n",
      "[148 rows x 7 columns]\n"
     ]
    },
    {
     "data": {
      "image/png": "[encoded data removed]",
      "text/plain": [
       "<Figure size 432x288 with 1 Axes>"
      ]
     },
     "metadata": {
      "needs_background": "light"
     },
     "output_type": "display_data"
    },
    {
     "name": "stdout",
     "output_type": "stream",
     "text": [
      "[ 1  6 11 19 27 34 53 60 62 74 76 78 97]\n"
     ]
    },
    {
     "data": {
      "image/png": "[encoded data removed]",
      "text/plain": [
       "<Figure size 432x288 with 1 Axes>"
      ]
     },
     "metadata": {
      "needs_background": "light"
     },
     "output_type": "display_data"
    }
   ],
   "source": [
    "from matplotlib import pyplot as plt\n",
    "\n",
    "candidates = candidates[candidates.r1res != candidates.r2res]\n",
    "print(candidates)\n",
    "\n",
    "#candidates.d.hist()\n",
    "close = candidates[candidates.d < 30 ]\n",
    "close = close[ close.r1res != close.r2res ]\n",
    "#close = close[close.cluster != 41]\n",
    "print(close)\n",
    "plt.ylabel('n cluster pairs')\n",
    "plt.xlabel('angstrom distance')\n",
    "candidates.d.hist()\n",
    "plt.show()\n",
    "print(close.cluster.unique())\n",
    "close.d.hist()\n",
    "\n",
    "candidates.to_csv('./candidates.csv')"
   ]
  },
  {
   "cell_type": "code",
   "execution_count": null,
   "metadata": {},
   "outputs": [],
   "source": [
    "\n",
    "\n",
    "#plot interprot \n",
    "\n",
    "\n",
    "#plot intraprot dist"
   ]
  },
  {
   "cell_type": "code",
   "execution_count": null,
   "metadata": {},
   "outputs": [],
   "source": []
  }
 ],
 "metadata": {
  "kernelspec": {
   "display_name": "Python 3",
   "language": "python",
   "name": "python3"
  },
  "language_info": {
   "codemirror_mode": {
    "name": "ipython",
    "version": 3
   },
   "file_extension": ".py",
   "mimetype": "text/x-python",
   "name": "python",
   "nbconvert_exporter": "python",
   "pygments_lexer": "ipython3",
   "version": "3.7.10"
  }
 },
 "nbformat": 4,
 "nbformat_minor": 4
}
